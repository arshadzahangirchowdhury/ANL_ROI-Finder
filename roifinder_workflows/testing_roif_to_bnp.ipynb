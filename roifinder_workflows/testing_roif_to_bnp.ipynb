{
 "cells": [
  {
   "cell_type": "code",
   "execution_count": 6,
   "id": "8d3da699",
   "metadata": {},
   "outputs": [],
   "source": [
    "import roifinder.src.roif_to_bnp\n",
    "from roifinder.src.roif_to_bnp import ROI_Finder"
   ]
  },
  {
   "cell_type": "markdown",
   "id": "d465ca8f",
   "metadata": {},
   "source": [
    "# call ROI-finder"
   ]
  },
  {
   "cell_type": "code",
   "execution_count": 10,
   "id": "2d66349e",
   "metadata": {},
   "outputs": [
    {
     "name": "stdout",
     "output_type": "stream",
     "text": [
      "XRF ../xrfdata/scan1.mda.h5\n",
      "['Cu', 'Zn', 'Ca', 'K', 'P', 'S', 'Fe', 'Ni', 'Total_Fluorescence_Yield']\n",
      "(41, 14)\n",
      "XRF ../xrfdata/scan2.mda.h5\n",
      "['Cu', 'Zn', 'Ca', 'K', 'P', 'S', 'Fe', 'Ni', 'Total_Fluorescence_Yield']\n",
      "(36, 14)\n",
      "XRF ../xrfdata/scan3.mda.h5\n",
      "['Cu', 'Zn', 'Ca', 'K', 'P', 'S', 'Fe', 'Ni', 'Total_Fluorescence_Yield']\n",
      "(17, 14)\n",
      "XRF ../xrfdata/scan4.mda.h5\n",
      "['Cu', 'Zn', 'Ca', 'K', 'P', 'S', 'Fe', 'Ni', 'Total_Fluorescence_Yield']\n",
      "(19, 14)\n",
      "XRF ../xrfdata/scan5.mda.h5\n",
      "['Cu', 'Zn', 'Ca', 'K', 'P', 'S', 'Fe', 'Ni', 'Total_Fluorescence_Yield']\n",
      "(11, 14)\n",
      "Bounding box width and height (pixels): 32\n",
      "Total extracted cells, features: (124, 14)\n",
      "Total extracted cell, cell size: (124, 32, 32)\n",
      "Cells, features (106, 7)\n",
      "k-means assigned class to max K cell: 1\n",
      "High K cell should be 1. Is it? True\n",
      "High K cell is class  1\n",
      "class_0 cells found: 7\n",
      "class_1 cells found: 1\n",
      "in scan:  ../xrfdata/scan5.mda.h5\n",
      "class 0 cell original idx: [114]\n",
      "class 1 cell original idx: [113]\n"
     ]
    }
   ],
   "source": [
    "BASE_PATCH_WIDTH=32\n",
    "pixel_threshold=8\n",
    "selected_elm_maps=['Cu','Zn','Ca', 'K', 'P', 'S','Fe','Ni','Total_Fluorescence_Yield']\n",
    "noise_type='none'\n",
    "base_file_path = '../xrfdata/'\n",
    "\n",
    "\n",
    "\n",
    "coarse_scan_names = ['scan1.mda.h5',\n",
    "                    'scan2.mda.h5',\n",
    "                    'scan3.mda.h5',\n",
    "                    'scan4.mda.h5',\n",
    "                    'scan5.mda.h5']\n",
    "\n",
    "\n",
    "\n",
    "hdf5_string_list=['MAPS','MAPS','MAPS','MAPS','MAPS']\n",
    "norm_ch_list=['US_IC','US_IC','US_IC','US_IC','US_IC']\n",
    "selected_elm_maps_list=[selected_elm_maps,selected_elm_maps,selected_elm_maps,selected_elm_maps,selected_elm_maps]\n",
    "noise_type_list = [noise_type,noise_type,noise_type,noise_type,noise_type]\n",
    "bin_conv_elm_list=['KPSCa', 'KPSCa', 'KPSCa', 'KPSCa', 'KPSCa']\n",
    "apply_gaussian_list=[False, False, False, False,False]\n",
    "value_offset_list = [1e-12,1e-12,1e-12,1e-12,1e-12]\n",
    "\n",
    "co_ords = ROI_Finder(\n",
    "                base_file_path,\n",
    "                coarse_scan_names,\n",
    "                hdf5_string_list,\n",
    "                norm_ch_list,\n",
    "                selected_elm_maps_list,\n",
    "                noise_type_list,\n",
    "                bin_conv_elm_list,\n",
    "                value_offset_list,\n",
    "                apply_gaussian_list,\n",
    "                BASE_PATCH_WIDTH=BASE_PATCH_WIDTH,\n",
    "                normalize = False,\n",
    "                print_pv=False,  \n",
    "                verbosity=False ,\n",
    "                mode='single' \n",
    "                )"
   ]
  },
  {
   "cell_type": "code",
   "execution_count": 11,
   "id": "f278ef8f",
   "metadata": {},
   "outputs": [
    {
     "data": {
      "text/plain": [
       "(array([-5.29697495e+01, -1.04197632e+03,  9.91366070e-01]),\n",
       " array([-2.27197495e+01, -1.05422632e+03,  7.70909363e-01]))"
      ]
     },
     "execution_count": 11,
     "metadata": {},
     "output_type": "execute_result"
    }
   ],
   "source": [
    "co_ords"
   ]
  },
  {
   "cell_type": "markdown",
   "id": "cf69126b",
   "metadata": {},
   "source": [
    "# thes above is a single ROI-finder function to return motor co-ordinates\n",
    "\n",
    "The function specifies which class is assigned to cells containing high amount of potassium."
   ]
  },
  {
   "cell_type": "markdown",
   "id": "2e59523b",
   "metadata": {},
   "source": [
    "## Merging ROI-finder with BNP batch scan\n"
   ]
  },
  {
   "cell_type": "code",
   "execution_count": null,
   "id": "ec772202",
   "metadata": {},
   "outputs": [],
   "source": [
    "import sys, os\n",
    "sys.path.append('/home/beams/USERBNP/scripts/bnpTools')\n",
    "from bnpScan import bnpScan\n",
    "import numpy as np\n",
    "import roif_to_bnp\n",
    "from roif_to_bnp import ROI_Finder\n",
    "\n",
    "userdir = '/mnt/micdata1/bnp/2022-1/OK'\n",
    "logfile = 'log-ROI-Finder.txt'   \n",
    "A = bnpScan(userdir, logfile)\n",
    "sampleName = 'Ecoli'\n",
    "BDAin = -9058\n",
    "x_width = 8\n",
    "y_width = 8\n",
    "x_step = 0.08\n",
    "y_step = 0.08\n",
    "dw = 100"
   ]
  },
  {
   "cell_type": "code",
   "execution_count": null,
   "id": "bfacd994",
   "metadata": {},
   "outputs": [],
   "source": [
    "samz = 650.90\n",
    "coords = ROI_Finder(target_base_file_path = '/home/beams/USERBNP/arshad/Practice_h5/',\n",
    "               target_xrf_filename ='bnp_fly0082.mda.h52', mode='single')\n",
    "scans = [[x_width, y_width, x_step, y_step, dw, round(c[0],2), round(c[1],2), samz] for c in coords ]\n",
    "A.setupBatchXRFScans(sampleName, scans, BDAin, smp_angle = None)"
   ]
  },
  {
   "cell_type": "code",
   "execution_count": null,
   "id": "8fd7017e",
   "metadata": {},
   "outputs": [],
   "source": [
    "A.scandic"
   ]
  },
  {
   "cell_type": "code",
   "execution_count": null,
   "id": "e2f8f5cc",
   "metadata": {},
   "outputs": [],
   "source": [
    "# A.startScan()"
   ]
  },
  {
   "cell_type": "code",
   "execution_count": null,
   "id": "a1be1bfd",
   "metadata": {},
   "outputs": [],
   "source": [
    "pvlist = self.h5[\"/MAPS/extra_pvs\"][0].astype(str).tolist()\n",
    "pvval = self.h5[\"/MAPS/extra_pvs\"][1].astype(str).tolist()\n",
    "\n",
    "# self.file_z = float(\n",
    "#     pvval[pvlist.index(self.pvComm.pvs[\"z_value_Act\"].pv.pvname)]\n",
    "# )\n",
    "# self.file_theta = float(\n",
    "#     pvval[pvlist.index(self.pvComm.pvs[\"sm_rot_Act\"].pv.pvname)]\n",
    "# )\n",
    "# '9idbTAU:SM:SZ:ActPos'"
   ]
  }
 ],
 "metadata": {
  "kernelspec": {
   "display_name": "Python 3 (ipykernel)",
   "language": "python",
   "name": "python3"
  },
  "language_info": {
   "codemirror_mode": {
    "name": "ipython",
    "version": 3
   },
   "file_extension": ".py",
   "mimetype": "text/x-python",
   "name": "python",
   "nbconvert_exporter": "python",
   "pygments_lexer": "ipython3",
   "version": "3.8.8"
  }
 },
 "nbformat": 4,
 "nbformat_minor": 5
}
